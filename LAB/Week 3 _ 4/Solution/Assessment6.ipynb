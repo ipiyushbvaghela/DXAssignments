{
 "cells": [
  {
   "cell_type": "markdown",
   "metadata": {
    "id": "GSLV-moMDHvd"
   },
   "source": [
    "**Navies Bayes**"
   ]
  },
  {
   "cell_type": "code",
   "execution_count": 1,
   "metadata": {
    "id": "rJejt29l9h4o"
   },
   "outputs": [],
   "source": [
    "import pandas as pd\n",
    "import random\n",
    "import numpy as np\n",
    "import warnings\n",
    "warnings.filterwarnings(\"ignore\")"
   ]
  },
  {
   "cell_type": "code",
   "execution_count": 2,
   "metadata": {
    "id": "VdQfObqu9h4t"
   },
   "outputs": [],
   "source": [
    "# Read the dataset\n",
    "data = pd.read_csv(\"pima-indians-diabetes.csv\",header = None)"
   ]
  },
  {
   "cell_type": "code",
   "execution_count": 3,
   "metadata": {
    "colab": {
     "base_uri": "https://localhost:8080/",
     "height": 153
    },
    "executionInfo": {
     "elapsed": 975,
     "status": "ok",
     "timestamp": 1600076203891,
     "user": {
      "displayName": "Appstek Innovative Labs",
      "photoUrl": "",
      "userId": "04728396421173214517"
     },
     "user_tz": -330
    },
    "id": "InJdfc0R9h4x",
    "outputId": "379c76fc-80ef-45f6-8873-de6a98e62f70"
   },
   "outputs": [
    {
     "data": {
      "text/html": [
       "<div>\n",
       "<style scoped>\n",
       "    .dataframe tbody tr th:only-of-type {\n",
       "        vertical-align: middle;\n",
       "    }\n",
       "\n",
       "    .dataframe tbody tr th {\n",
       "        vertical-align: top;\n",
       "    }\n",
       "\n",
       "    .dataframe thead th {\n",
       "        text-align: right;\n",
       "    }\n",
       "</style>\n",
       "<table border=\"1\" class=\"dataframe\">\n",
       "  <thead>\n",
       "    <tr style=\"text-align: right;\">\n",
       "      <th></th>\n",
       "      <th>0</th>\n",
       "      <th>1</th>\n",
       "      <th>2</th>\n",
       "      <th>3</th>\n",
       "      <th>4</th>\n",
       "      <th>5</th>\n",
       "      <th>6</th>\n",
       "      <th>7</th>\n",
       "      <th>8</th>\n",
       "    </tr>\n",
       "  </thead>\n",
       "  <tbody>\n",
       "    <tr>\n",
       "      <th>0</th>\n",
       "      <td>6</td>\n",
       "      <td>148</td>\n",
       "      <td>72</td>\n",
       "      <td>35</td>\n",
       "      <td>0</td>\n",
       "      <td>33.6</td>\n",
       "      <td>0.627</td>\n",
       "      <td>50</td>\n",
       "      <td>1</td>\n",
       "    </tr>\n",
       "    <tr>\n",
       "      <th>1</th>\n",
       "      <td>1</td>\n",
       "      <td>85</td>\n",
       "      <td>66</td>\n",
       "      <td>29</td>\n",
       "      <td>0</td>\n",
       "      <td>26.6</td>\n",
       "      <td>0.351</td>\n",
       "      <td>31</td>\n",
       "      <td>0</td>\n",
       "    </tr>\n",
       "    <tr>\n",
       "      <th>2</th>\n",
       "      <td>8</td>\n",
       "      <td>183</td>\n",
       "      <td>64</td>\n",
       "      <td>0</td>\n",
       "      <td>0</td>\n",
       "      <td>23.3</td>\n",
       "      <td>0.672</td>\n",
       "      <td>32</td>\n",
       "      <td>1</td>\n",
       "    </tr>\n",
       "    <tr>\n",
       "      <th>3</th>\n",
       "      <td>1</td>\n",
       "      <td>89</td>\n",
       "      <td>66</td>\n",
       "      <td>23</td>\n",
       "      <td>94</td>\n",
       "      <td>28.1</td>\n",
       "      <td>0.167</td>\n",
       "      <td>21</td>\n",
       "      <td>0</td>\n",
       "    </tr>\n",
       "    <tr>\n",
       "      <th>4</th>\n",
       "      <td>0</td>\n",
       "      <td>137</td>\n",
       "      <td>40</td>\n",
       "      <td>35</td>\n",
       "      <td>168</td>\n",
       "      <td>43.1</td>\n",
       "      <td>2.288</td>\n",
       "      <td>33</td>\n",
       "      <td>1</td>\n",
       "    </tr>\n",
       "  </tbody>\n",
       "</table>\n",
       "</div>"
      ],
      "text/plain": [
       "   0    1   2   3    4     5      6   7  8\n",
       "0  6  148  72  35    0  33.6  0.627  50  1\n",
       "1  1   85  66  29    0  26.6  0.351  31  0\n",
       "2  8  183  64   0    0  23.3  0.672  32  1\n",
       "3  1   89  66  23   94  28.1  0.167  21  0\n",
       "4  0  137  40  35  168  43.1  2.288  33  1"
      ]
     },
     "execution_count": 3,
     "metadata": {},
     "output_type": "execute_result"
    }
   ],
   "source": [
    "# Visualize some data samples from the dataset\n",
    "data.head()"
   ]
  },
  {
   "cell_type": "code",
   "execution_count": 46,
   "metadata": {
    "colab": {
     "base_uri": "https://localhost:8080/",
     "height": 289
    },
    "executionInfo": {
     "elapsed": 890,
     "status": "ok",
     "timestamp": 1600076207750,
     "user": {
      "displayName": "Appstek Innovative Labs",
      "photoUrl": "",
      "userId": "04728396421173214517"
     },
     "user_tz": -330
    },
    "id": "G6iquh2X9h42",
    "outputId": "bcf05ffa-b557-4127-a4de-432d504d3bcc"
   },
   "outputs": [
    {
     "name": "stdout",
     "output_type": "stream",
     "text": [
      "\n",
      "\n",
      "\n",
      "Stats for the 7 features over the dataset and the 2 classes {8th column}{diabetic/not-diabetic}\n",
      "\n",
      "                0           1           2           3           4           5  \\\n",
      "count  768.000000  768.000000  768.000000  768.000000  768.000000  768.000000   \n",
      "mean     3.845052  120.894531   69.105469   20.536458   79.799479   31.992578   \n",
      "std      3.369578   31.972618   19.355807   15.952218  115.244002    7.884160   \n",
      "min      0.000000    0.000000    0.000000    0.000000    0.000000    0.000000   \n",
      "25%      1.000000   99.000000   62.000000    0.000000    0.000000   27.300000   \n",
      "50%      3.000000  117.000000   72.000000   23.000000   30.500000   32.000000   \n",
      "75%      6.000000  140.250000   80.000000   32.000000  127.250000   36.600000   \n",
      "max     17.000000  199.000000  122.000000   99.000000  846.000000   67.100000   \n",
      "\n",
      "                6           7           8  \n",
      "count  768.000000  768.000000  768.000000  \n",
      "mean     0.471876   33.240885    0.348958  \n",
      "std      0.331329   11.760232    0.476951  \n",
      "min      0.078000   21.000000    0.000000  \n",
      "25%      0.243750   24.000000    0.000000  \n",
      "50%      0.372500   29.000000    0.000000  \n",
      "75%      0.626250   41.000000    1.000000  \n",
      "max      2.420000   81.000000    1.000000  \n"
     ]
    }
   ],
   "source": [
    "# 8th column is the class label\n",
    "print('\\n\\n\\nStats for the 7 features over the dataset and the 2 classes {8th column}{diabetic/not-diabetic}\\n')\n",
    "print(data.describe())"
   ]
  },
  {
   "cell_type": "code",
   "execution_count": 47,
   "metadata": {
    "id": "O3Sa69eT9h48"
   },
   "outputs": [],
   "source": [
    "TRAIN_TEST_RATIO = 0.8        # 80% training data\n",
    "picker = list(range(data.shape[0]))        # get all indices as a list\n",
    "## sometimes the data is arranged classwise and not randomly\n",
    "## therefore we shuffle the indices\n",
    "random.shuffle(picker)\n",
    "trainMax = int(data.shape[0] * TRAIN_TEST_RATIO)\n",
    "\n",
    "train_features = []\n",
    "test_features = []\n",
    "train_labels = []\n",
    "test_labels = []\n",
    "\n",
    "for pick in picker[:trainMax]:\n",
    "    train_features.append(data.values[pick][:-1])\n",
    "    train_labels.append(int(data.values[pick][-1]))\n",
    "for pick in picker[trainMax:]:\n",
    "    test_features.append(data.values[pick][:-1])\n",
    "    test_labels.append(int(data.values[pick][-1]))\n",
    "\n",
    "train_features = np.array(train_features)\n",
    "test_features = np.array(test_features)"
   ]
  },
  {
   "cell_type": "code",
   "execution_count": 48,
   "metadata": {
    "colab": {
     "base_uri": "https://localhost:8080/",
     "height": 51
    },
    "executionInfo": {
     "elapsed": 962,
     "status": "ok",
     "timestamp": 1600076221013,
     "user": {
      "displayName": "Appstek Innovative Labs",
      "photoUrl": "",
      "userId": "04728396421173214517"
     },
     "user_tz": -330
    },
    "id": "76rpeyPE9h5A",
    "outputId": "249d3ea8-9899-4112-85b2-1ccdba127d80"
   },
   "outputs": [
    {
     "data": {
      "text/plain": [
       "array([ 5.   , 73.   , 60.   ,  0.   ,  0.   , 26.8  ,  0.268, 27.   ,\n",
       "        0.   ])"
      ]
     },
     "execution_count": 48,
     "metadata": {},
     "output_type": "execute_result"
    }
   ],
   "source": [
    "data.values[pick]"
   ]
  },
  {
   "cell_type": "code",
   "execution_count": 49,
   "metadata": {
    "colab": {
     "base_uri": "https://localhost:8080/",
     "height": 34
    },
    "executionInfo": {
     "elapsed": 1079,
     "status": "ok",
     "timestamp": 1600076237410,
     "user": {
      "displayName": "Appstek Innovative Labs",
      "photoUrl": "",
      "userId": "04728396421173214517"
     },
     "user_tz": -330
    },
    "id": "pAE5_dPr9h5E",
    "outputId": "62194639-929d-45c2-dd59-bafc4c8da322"
   },
   "outputs": [
    {
     "name": "stdout",
     "output_type": "stream",
     "text": [
      "(614, 8) 614 (154, 8) 154\n"
     ]
    }
   ],
   "source": [
    "print(train_features.shape, len(train_labels), test_features.shape, len(test_labels))"
   ]
  },
  {
   "cell_type": "markdown",
   "metadata": {
    "id": "IptlLvLc9h5I"
   },
   "source": [
    "### Exercise 1: Calculate Prior $P(Y)$\n",
    "\n",
    "The formula for prior has been taught in class. This is also called the class probability. $P(Y)$ or $P(Y = y)$ is the fraction of the elements present in a class"
   ]
  },
  {
   "cell_type": "code",
   "execution_count": 50,
   "metadata": {
    "colab": {
     "base_uri": "https://localhost:8080/",
     "height": 51
    },
    "executionInfo": {
     "elapsed": 971,
     "status": "ok",
     "timestamp": 1600076241755,
     "user": {
      "displayName": "Appstek Innovative Labs",
      "photoUrl": "",
      "userId": "04728396421173214517"
     },
     "user_tz": -330
    },
    "id": "_IMg5jCq9h5J",
    "outputId": "276d2000-f29f-4626-b92a-ec3ee11bbcb6"
   },
   "outputs": [
    {
     "name": "stdout",
     "output_type": "stream",
     "text": [
      "[0 1]\n",
      "[412 202]\n"
     ]
    }
   ],
   "source": [
    "# Get the number of unique classes & corresponding number of elements belonging to each class\n",
    "classes, counts = np.unique(train_labels, return_counts=True)\n",
    "print(classes)\n",
    "print(counts)"
   ]
  },
  {
   "cell_type": "code",
   "execution_count": 51,
   "metadata": {
    "id": "Q3dEFbBS9h5M"
   },
   "outputs": [],
   "source": [
    "### I assume my classes are from 0 ... N for some N (Here, we have just 2 classes)\n",
    "num_classes = len(classes)\n",
    "num_feats = train_features.shape[1]  #total number of features\n",
    "total_samples = len(train_labels)    #total number of samples"
   ]
  },
  {
   "cell_type": "markdown",
   "metadata": {
    "id": "srbcHWiJ9h5Q"
   },
   "source": [
    "### **Exercise 1: Find the prior probability of each class as the list `prior`**"
   ]
  },
  {
   "cell_type": "code",
   "execution_count": 52,
   "metadata": {
    "id": "MoK6T-om9h5Q"
   },
   "outputs": [],
   "source": [
    "# Prior for any class = {number of samples belonging to that class/ total_samples}\n",
    "prior = np.array([ x*1.0/total_samples for x in counts ])"
   ]
  },
  {
   "cell_type": "code",
   "execution_count": 53,
   "metadata": {
    "colab": {
     "base_uri": "https://localhost:8080/",
     "height": 34
    },
    "executionInfo": {
     "elapsed": 1081,
     "status": "ok",
     "timestamp": 1600076264897,
     "user": {
      "displayName": "Appstek Innovative Labs",
      "photoUrl": "",
      "userId": "04728396421173214517"
     },
     "user_tz": -330
    },
    "id": "TmwCypNw9h5U",
    "outputId": "a2988762-6b2b-490e-b87b-1947f5a35e9c"
   },
   "outputs": [
    {
     "name": "stdout",
     "output_type": "stream",
     "text": [
      "[0.67100977 0.32899023]\n"
     ]
    }
   ],
   "source": [
    "print(prior)"
   ]
  },
  {
   "cell_type": "code",
   "execution_count": 54,
   "metadata": {
    "id": "lxCqIPGK9h5Y"
   },
   "outputs": [],
   "source": [
    "## Calculate the mean and variance per feature dimension here \n",
    "### from the training set from samples belonging to each class label.\n",
    "\n",
    "means = np.zeros((num_feats, num_classes)) # every feature, for each class\n",
    "stddev = np.zeros((num_feats, num_classes)) # every feature, for each class\n",
    "\n",
    "# For each class\n",
    "for y in classes: # selecting a class 'y'\n",
    "    pts = train_features[np.where( train_labels == y )[0], :]    # get all samples belonging to 'y'\n",
    "    # For each feature\n",
    "    for i in range(num_feats):\n",
    "        means[i, y] = np.mean(pts[:, i])\n",
    "        stddev[i, y] = np.std(pts[:, i])\n",
    "\n",
    "### This completes the training phase\n",
    "### We know have estimated both the prior probability and the posterior distributions from our training set."
   ]
  },
  {
   "cell_type": "code",
   "execution_count": 55,
   "metadata": {},
   "outputs": [
    {
     "data": {
      "text/plain": [
       "(array([[  3.37621359,   4.79207921],\n",
       "        [109.52912621, 142.17326733],\n",
       "        [ 68.54126214,  70.44554455],\n",
       "        [ 19.43932039,  20.95544554],\n",
       "        [ 68.19417476,  94.51980198],\n",
       "        [ 30.17087379,  34.59653465],\n",
       "        [  0.43646602,   0.53081683],\n",
       "        [ 31.50242718,  36.59405941]]),\n",
       " array([[  3.02284461,   3.60504825],\n",
       "        [ 25.64766168,  29.08105229],\n",
       "        [ 18.08087941,  21.12432564],\n",
       "        [ 14.75738116,  17.90467042],\n",
       "        [ 98.69835464, 139.60759045],\n",
       "        [  7.74978084,   7.13303831],\n",
       "        [  0.31119032,   0.35237215],\n",
       "        [ 11.99544792,  10.83967613]]))"
      ]
     },
     "execution_count": 55,
     "metadata": {},
     "output_type": "execute_result"
    }
   ],
   "source": [
    "means,stddev"
   ]
  },
  {
   "cell_type": "markdown",
   "metadata": {
    "id": "LF6ixC9m9h5b"
   },
   "source": [
    "\n",
    "\n",
    "### Exercise 2: Complete the Gaussian function ###"
   ]
  },
  {
   "cell_type": "code",
   "execution_count": 56,
   "metadata": {
    "id": "UpR0eaoB9h5c"
   },
   "outputs": [],
   "source": [
    "def gaussian(x, m, v):\n",
    "    g = np.sqrt(1.0/2*np.pi*v*v)*np.exp( -1.0*(((x - m)/v)**2) )\n",
    "    return g"
   ]
  },
  {
   "cell_type": "markdown",
   "metadata": {
    "id": "D32yu36Z9h5f"
   },
   "source": [
    "### Exercise 3: Find the likelihood for each class 'y', once you have $P(X_{i}|y)$ from Exercise 2 ###"
   ]
  },
  {
   "cell_type": "code",
   "execution_count": 57,
   "metadata": {
    "id": "963ybUaa9h5g"
   },
   "outputs": [],
   "source": [
    "def get_likelihood(point, means, stddev):\n",
    "    \n",
    "    feat_prob = np.zeros((num_feats, num_classes))\n",
    "    for y in classes:\n",
    "        for i in range(num_feats):\n",
    "            feat_prob[i, y] = gaussian(point[i], means[i, y], stddev[i, y]) # get the probability\n",
    "    \n",
    "    likelihood = np.zeros((num_classes, 1)) # likelihood for each class 'y'\n",
    "    for y in classes:\n",
    "        # Take the product of all the feature likelihoods of the class considered\n",
    "        likelihood[y] = np.prod(feat_prob[np.nonzero(feat_prob), y]) # mutliply for each feature 'Xi'\n",
    "    return likelihood"
   ]
  },
  {
   "cell_type": "markdown",
   "metadata": {
    "id": "Z4ny5DMt9h5j"
   },
   "source": [
    "## Predict using Naive Bayes classifier"
   ]
  },
  {
   "cell_type": "code",
   "execution_count": 58,
   "metadata": {
    "colab": {
     "base_uri": "https://localhost:8080/",
     "height": 51
    },
    "executionInfo": {
     "elapsed": 927,
     "status": "ok",
     "timestamp": 1600076333238,
     "user": {
      "displayName": "Appstek Innovative Labs",
      "photoUrl": "",
      "userId": "04728396421173214517"
     },
     "user_tz": -330
    },
    "id": "MuCGE4wW9h5m",
    "outputId": "26f9d7eb-3e25-4ae8-d7cd-ce24002b2a1b"
   },
   "outputs": [],
   "source": [
    "predictions = []\n",
    "# For each test sample\n",
    "for i in range(len(test_labels)):\n",
    "    \n",
    "    # Get its likelihood of belong to either class\n",
    "    likelihood = get_likelihood(test_features[i, :], means, stddev)\n",
    "    \n",
    "    # Calculate the approximate posterior = likelihood * prior\n",
    "    approx_posterior = [ np.asscalar(x*y) for x,y in zip(likelihood, prior) ]\n",
    "    #approx because of missing P(X) (constant) in the denominator\n",
    "    \n",
    "    # Make the prediction as that class with the maximum approximate posterior\n",
    "    prediction = np.argmax(approx_posterior)\n",
    "    predictions.append(prediction)"
   ]
  },
  {
   "cell_type": "code",
   "execution_count": 59,
   "metadata": {
    "colab": {
     "base_uri": "https://localhost:8080/",
     "height": 51
    },
    "executionInfo": {
     "elapsed": 912,
     "status": "ok",
     "timestamp": 1600076337486,
     "user": {
      "displayName": "Appstek Innovative Labs",
      "photoUrl": "",
      "userId": "04728396421173214517"
     },
     "user_tz": -330
    },
    "id": "zf6qbyxX9h5p",
    "outputId": "5693fb17-26f1-418f-ce05-1c7c7ec36578"
   },
   "outputs": [
    {
     "name": "stdout",
     "output_type": "stream",
     "text": [
      "Accuracy\n",
      "0.7077922077922078\n"
     ]
    }
   ],
   "source": [
    "print(\"Accuracy\")\n",
    "print(np.mean([x == y for x, y in zip(predictions, test_labels)]))"
   ]
  },
  {
   "cell_type": "markdown",
   "metadata": {
    "id": "ESFdIePtNVNf"
   },
   "source": [
    "### Use same dataset and Implement using a scikit-learn libraries ###"
   ]
  },
  {
   "cell_type": "code",
   "execution_count": 60,
   "metadata": {
    "id": "KX20Q14w9h5s"
   },
   "outputs": [],
   "source": [
    "from sklearn.preprocessing import StandardScaler\n",
    "from sklearn.naive_bayes import GaussianNB\n",
    "from sklearn.model_selection import train_test_split\n"
   ]
  },
  {
   "cell_type": "code",
   "execution_count": 61,
   "metadata": {
    "id": "jgy-bd559h5v"
   },
   "outputs": [
    {
     "data": {
      "text/html": [
       "<div>\n",
       "<style scoped>\n",
       "    .dataframe tbody tr th:only-of-type {\n",
       "        vertical-align: middle;\n",
       "    }\n",
       "\n",
       "    .dataframe tbody tr th {\n",
       "        vertical-align: top;\n",
       "    }\n",
       "\n",
       "    .dataframe thead th {\n",
       "        text-align: right;\n",
       "    }\n",
       "</style>\n",
       "<table border=\"1\" class=\"dataframe\">\n",
       "  <thead>\n",
       "    <tr style=\"text-align: right;\">\n",
       "      <th></th>\n",
       "      <th>0</th>\n",
       "      <th>1</th>\n",
       "      <th>2</th>\n",
       "      <th>3</th>\n",
       "      <th>4</th>\n",
       "      <th>5</th>\n",
       "      <th>6</th>\n",
       "      <th>7</th>\n",
       "      <th>8</th>\n",
       "    </tr>\n",
       "  </thead>\n",
       "  <tbody>\n",
       "    <tr>\n",
       "      <th>0</th>\n",
       "      <td>6</td>\n",
       "      <td>148</td>\n",
       "      <td>72</td>\n",
       "      <td>35</td>\n",
       "      <td>0</td>\n",
       "      <td>33.6</td>\n",
       "      <td>0.627</td>\n",
       "      <td>50</td>\n",
       "      <td>1</td>\n",
       "    </tr>\n",
       "    <tr>\n",
       "      <th>1</th>\n",
       "      <td>1</td>\n",
       "      <td>85</td>\n",
       "      <td>66</td>\n",
       "      <td>29</td>\n",
       "      <td>0</td>\n",
       "      <td>26.6</td>\n",
       "      <td>0.351</td>\n",
       "      <td>31</td>\n",
       "      <td>0</td>\n",
       "    </tr>\n",
       "    <tr>\n",
       "      <th>2</th>\n",
       "      <td>8</td>\n",
       "      <td>183</td>\n",
       "      <td>64</td>\n",
       "      <td>0</td>\n",
       "      <td>0</td>\n",
       "      <td>23.3</td>\n",
       "      <td>0.672</td>\n",
       "      <td>32</td>\n",
       "      <td>1</td>\n",
       "    </tr>\n",
       "    <tr>\n",
       "      <th>3</th>\n",
       "      <td>1</td>\n",
       "      <td>89</td>\n",
       "      <td>66</td>\n",
       "      <td>23</td>\n",
       "      <td>94</td>\n",
       "      <td>28.1</td>\n",
       "      <td>0.167</td>\n",
       "      <td>21</td>\n",
       "      <td>0</td>\n",
       "    </tr>\n",
       "    <tr>\n",
       "      <th>4</th>\n",
       "      <td>0</td>\n",
       "      <td>137</td>\n",
       "      <td>40</td>\n",
       "      <td>35</td>\n",
       "      <td>168</td>\n",
       "      <td>43.1</td>\n",
       "      <td>2.288</td>\n",
       "      <td>33</td>\n",
       "      <td>1</td>\n",
       "    </tr>\n",
       "  </tbody>\n",
       "</table>\n",
       "</div>"
      ],
      "text/plain": [
       "   0    1   2   3    4     5      6   7  8\n",
       "0  6  148  72  35    0  33.6  0.627  50  1\n",
       "1  1   85  66  29    0  26.6  0.351  31  0\n",
       "2  8  183  64   0    0  23.3  0.672  32  1\n",
       "3  1   89  66  23   94  28.1  0.167  21  0\n",
       "4  0  137  40  35  168  43.1  2.288  33  1"
      ]
     },
     "execution_count": 61,
     "metadata": {},
     "output_type": "execute_result"
    }
   ],
   "source": [
    "data.head()"
   ]
  },
  {
   "cell_type": "code",
   "execution_count": 62,
   "metadata": {},
   "outputs": [],
   "source": [
    "X,y=data.iloc[:,:-1],data.iloc[:,-1]"
   ]
  },
  {
   "cell_type": "code",
   "execution_count": 76,
   "metadata": {},
   "outputs": [],
   "source": [
    "X_train, X_test, y_train, y_test = train_test_split(X, y, test_size=0.33, random_state=42,stratify=y)"
   ]
  },
  {
   "cell_type": "code",
   "execution_count": 77,
   "metadata": {},
   "outputs": [
    {
     "data": {
      "text/plain": [
       "((514, 8), (254, 8), (254,), (514,))"
      ]
     },
     "execution_count": 77,
     "metadata": {},
     "output_type": "execute_result"
    }
   ],
   "source": [
    "X_train.shape,X_test.shape,y_test.shape,y_train.shape"
   ]
  },
  {
   "cell_type": "code",
   "execution_count": 78,
   "metadata": {},
   "outputs": [],
   "source": [
    "ss=StandardScaler()"
   ]
  },
  {
   "cell_type": "code",
   "execution_count": 79,
   "metadata": {},
   "outputs": [],
   "source": [
    "Xtrain_std=ss.fit_transform(X_train)"
   ]
  },
  {
   "cell_type": "code",
   "execution_count": 80,
   "metadata": {},
   "outputs": [],
   "source": [
    "NB=GaussianNB()"
   ]
  },
  {
   "cell_type": "code",
   "execution_count": 81,
   "metadata": {},
   "outputs": [
    {
     "data": {
      "text/plain": [
       "GaussianNB()"
      ]
     },
     "execution_count": 81,
     "metadata": {},
     "output_type": "execute_result"
    }
   ],
   "source": [
    "NB.fit(Xtrain_std,y_train)"
   ]
  },
  {
   "cell_type": "code",
   "execution_count": 82,
   "metadata": {},
   "outputs": [],
   "source": [
    "Xtest_std=ss.transform(X_test)"
   ]
  },
  {
   "cell_type": "code",
   "execution_count": 83,
   "metadata": {},
   "outputs": [],
   "source": [
    "y_pred=NB.predict(Xtest_std)"
   ]
  },
  {
   "cell_type": "code",
   "execution_count": 84,
   "metadata": {},
   "outputs": [],
   "source": [
    "from sklearn.metrics import classification_report"
   ]
  },
  {
   "cell_type": "code",
   "execution_count": 85,
   "metadata": {},
   "outputs": [
    {
     "name": "stdout",
     "output_type": "stream",
     "text": [
      "              precision    recall  f1-score   support\n",
      "\n",
      "           0       0.80      0.81      0.80       165\n",
      "           1       0.64      0.63      0.63        89\n",
      "\n",
      "    accuracy                           0.74       254\n",
      "   macro avg       0.72      0.72      0.72       254\n",
      "weighted avg       0.74      0.74      0.74       254\n",
      "\n"
     ]
    }
   ],
   "source": [
    "print(classification_report(y_test,y_pred))"
   ]
  },
  {
   "cell_type": "code",
   "execution_count": 86,
   "metadata": {},
   "outputs": [
    {
     "data": {
      "text/plain": [
       "array([0.65175097, 0.34824903])"
      ]
     },
     "execution_count": 86,
     "metadata": {},
     "output_type": "execute_result"
    }
   ],
   "source": [
    "NB.class_prior_"
   ]
  },
  {
   "cell_type": "code",
   "execution_count": 87,
   "metadata": {},
   "outputs": [
    {
     "data": {
      "text/plain": [
       "array([335., 179.])"
      ]
     },
     "execution_count": 87,
     "metadata": {},
     "output_type": "execute_result"
    }
   ],
   "source": [
    "NB.class_count_"
   ]
  },
  {
   "cell_type": "code",
   "execution_count": null,
   "metadata": {},
   "outputs": [],
   "source": []
  }
 ],
 "metadata": {
  "colab": {
   "collapsed_sections": [],
   "name": "Assessment6.ipynb",
   "provenance": []
  },
  "kernelspec": {
   "display_name": "Python 3.10.5 64-bit",
   "language": "python",
   "name": "python3"
  },
  "language_info": {
   "codemirror_mode": {
    "name": "ipython",
    "version": 3
   },
   "file_extension": ".py",
   "mimetype": "text/x-python",
   "name": "python",
   "nbconvert_exporter": "python",
   "pygments_lexer": "ipython3",
   "version": "3.10.5"
  },
  "vscode": {
   "interpreter": {
    "hash": "de805dbe6466896bd7cbe219080414257ec65ca3fc6df24513ccd1b91a22184a"
   }
  }
 },
 "nbformat": 4,
 "nbformat_minor": 1
}
