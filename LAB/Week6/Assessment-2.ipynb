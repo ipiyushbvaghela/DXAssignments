{
  "cells": [
    {
      "cell_type": "markdown",
      "metadata": {
        "id": "484j1_9fxHVH"
      },
      "source": [
        "**Decision Tree**"
      ]
    },
    {
      "cell_type": "code",
      "execution_count": null,
      "metadata": {
        "colab": {
          "base_uri": "https://localhost:8080/",
          "height": 295
        },
        "id": "nun0gTurNcCV",
        "outputId": "2dbf793e-c901-48b0-e1b8-b657b6fb8cfe"
      },
      "outputs": [
        {
          "data": {
            "image/png": "[encoded data removed]",
            "text/plain": [
              "<Figure size 432x288 with 1 Axes>"
            ]
          },
          "metadata": {
            "needs_background": "light",
            "tags": []
          },
          "output_type": "display_data"
        }
      ],
      "source": [
        "import numpy as np\n",
        "import matplotlib.pyplot as plt\n",
        "import pandas as pd\n",
        "\n",
        "# Importing the datasets\n",
        "\n",
        "datasets = pd.read_csv('Position_Salaries.csv')\n",
        "X = datasets.iloc[:, 1:2].values\n",
        "Y = datasets.iloc[:, 2].values\n",
        "\n",
        "# Fitting the Regression model to the dataset\n",
        "\n",
        "from sklearn.tree import DecisionTreeRegressor\n",
        "regressor = DecisionTreeRegressor(random_state = 0)\n",
        "regressor.fit(X,Y)\n",
        "\n",
        "# Predicting a new result with the Decision Tree Regression\n",
        "\n",
        "Y_pred = regressor.predict(np.array([6.5]).reshape(1, 1))\n",
        "\n",
        "\n",
        "# Visualising the Decision Tree Regression results in higher resolution and smoother curve\n",
        "X_Grid = np.arange(min(X), max(X), 0.01)\n",
        "X_Grid = X_Grid.reshape((len(X_Grid), 1))\n",
        "plt.scatter(X,Y, color = 'red')\n",
        "plt.plot(X_Grid, regressor.predict(X_Grid), color = 'blue')\n",
        "plt.title('Decision Tree Regression Results')\n",
        "plt.xlabel('Position level')\n",
        "plt.ylabel('Salary')\n",
        "plt.show()"
      ]
    },
    {
      "cell_type": "code",
      "execution_count": null,
      "metadata": {
        "id": "plSXzjErNcCd"
      },
      "outputs": [],
      "source": []
    }
  ],
  "metadata": {
    "colab": {
      "collapsed_sections": [],
      "provenance": []
    },
    "kernelspec": {
      "display_name": "Python 3",
      "language": "python",
      "name": "python3"
    },
    "language_info": {
      "codemirror_mode": {
        "name": "ipython",
        "version": 3
      },
      "file_extension": ".py",
      "mimetype": "text/x-python",
      "name": "python",
      "nbconvert_exporter": "python",
      "pygments_lexer": "ipython3",
      "version": "3.7.4"
    }
  },
  "nbformat": 4,
  "nbformat_minor": 0
}
